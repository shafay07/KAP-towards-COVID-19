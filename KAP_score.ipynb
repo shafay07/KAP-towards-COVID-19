{
  "nbformat": 4,
  "nbformat_minor": 0,
  "metadata": {
    "colab": {
      "name": "KAP_score.ipynb",
      "provenance": [],
      "collapsed_sections": [],
      "authorship_tag": "ABX9TyNcvMArLkvSrm7u8ypT3L/9",
      "include_colab_link": true
    },
    "kernelspec": {
      "name": "python3",
      "display_name": "Python 3"
    }
  },
  "cells": [
    {
      "cell_type": "markdown",
      "metadata": {
        "id": "view-in-github",
        "colab_type": "text"
      },
      "source": [
        "<a href=\"https://colab.research.google.com/github/shafay07/KAP-towards-COVID-19/blob/master/KAP_score.ipynb\" target=\"_parent\"><img src=\"https://colab.research.google.com/assets/colab-badge.svg\" alt=\"Open In Colab\"/></a>"
      ]
    },
    {
      "cell_type": "markdown",
      "metadata": {
        "id": "81-iNXer3_vU",
        "colab_type": "text"
      },
      "source": [
        "A quick Python interactive notebook to calculate how indivisuals performed on a survey quiz regarding COVID-19."
      ]
    },
    {
      "cell_type": "code",
      "metadata": {
        "id": "TbmmlOcigX38",
        "colab_type": "code",
        "colab": {}
      },
      "source": [
        "import pandas as pd\n",
        "import statistics"
      ],
      "execution_count": 0,
      "outputs": []
    },
    {
      "cell_type": "code",
      "metadata": {
        "id": "PDtp8nlRgniL",
        "colab_type": "code",
        "colab": {}
      },
      "source": [
        "# loads at runtime\n",
        "dataset = pd.read_csv('KAP_clean.csv')"
      ],
      "execution_count": 0,
      "outputs": []
    },
    {
      "cell_type": "code",
      "metadata": {
        "id": "UQGvIshHl_zi",
        "colab_type": "code",
        "colab": {
          "base_uri": "https://localhost:8080/",
          "height": 449
        },
        "outputId": "293bc964-4ecd-472c-b6be-9acc44cc2194"
      },
      "source": [
        "dataset.head()"
      ],
      "execution_count": 21,
      "outputs": [
        {
          "output_type": "execute_result",
          "data": {
            "text/html": [
              "<div>\n",
              "<style scoped>\n",
              "    .dataframe tbody tr th:only-of-type {\n",
              "        vertical-align: middle;\n",
              "    }\n",
              "\n",
              "    .dataframe tbody tr th {\n",
              "        vertical-align: top;\n",
              "    }\n",
              "\n",
              "    .dataframe thead th {\n",
              "        text-align: right;\n",
              "    }\n",
              "</style>\n",
              "<table border=\"1\" class=\"dataframe\">\n",
              "  <thead>\n",
              "    <tr style=\"text-align: right;\">\n",
              "      <th></th>\n",
              "      <th>Gender</th>\n",
              "      <th>Age</th>\n",
              "      <th>Highest level of education</th>\n",
              "      <th>Employment status</th>\n",
              "      <th>k1</th>\n",
              "      <th>k2</th>\n",
              "      <th>k3</th>\n",
              "      <th>k4</th>\n",
              "      <th>k5</th>\n",
              "      <th>k6</th>\n",
              "      <th>k7</th>\n",
              "      <th>k8</th>\n",
              "      <th>k9</th>\n",
              "      <th>k10</th>\n",
              "      <th>k11</th>\n",
              "      <th>k12</th>\n",
              "      <th>k13</th>\n",
              "      <th>k14</th>\n",
              "      <th>a1</th>\n",
              "      <th>a2</th>\n",
              "      <th>a3</th>\n",
              "      <th>a4</th>\n",
              "      <th>p1</th>\n",
              "      <th>p2</th>\n",
              "      <th>p3</th>\n",
              "      <th>p4</th>\n",
              "      <th>p5</th>\n",
              "      <th>p6</th>\n",
              "      <th>p7</th>\n",
              "      <th>i1</th>\n",
              "      <th>i2</th>\n",
              "      <th>i3</th>\n",
              "      <th>i4</th>\n",
              "      <th>i5</th>\n",
              "      <th>i6</th>\n",
              "    </tr>\n",
              "  </thead>\n",
              "  <tbody>\n",
              "    <tr>\n",
              "      <th>0</th>\n",
              "      <td>Female</td>\n",
              "      <td>34-44</td>\n",
              "      <td>Master</td>\n",
              "      <td>Full-time employment</td>\n",
              "      <td>TRUE</td>\n",
              "      <td>TRUE</td>\n",
              "      <td>TRUE</td>\n",
              "      <td>TRUE</td>\n",
              "      <td>FALSE</td>\n",
              "      <td>TRUE</td>\n",
              "      <td>TRUE</td>\n",
              "      <td>TRUE</td>\n",
              "      <td>Don't know</td>\n",
              "      <td>TRUE</td>\n",
              "      <td>Yes</td>\n",
              "      <td>TRUE</td>\n",
              "      <td>TRUE</td>\n",
              "      <td>FALSE</td>\n",
              "      <td>Yes</td>\n",
              "      <td>Yes</td>\n",
              "      <td>Yes</td>\n",
              "      <td>Yes</td>\n",
              "      <td>Yes</td>\n",
              "      <td>Yes</td>\n",
              "      <td>Yes</td>\n",
              "      <td>Once</td>\n",
              "      <td>Yes</td>\n",
              "      <td>Yes</td>\n",
              "      <td>Washing hands frequently;Wearing masks;Using h...</td>\n",
              "      <td>No</td>\n",
              "      <td>Prefer not to say</td>\n",
              "      <td>Yes</td>\n",
              "      <td>Fear of getting infection;Fear of dying</td>\n",
              "      <td>Unable to relax;Fear of dying;Indigestion</td>\n",
              "      <td>No</td>\n",
              "    </tr>\n",
              "    <tr>\n",
              "      <th>1</th>\n",
              "      <td>Male</td>\n",
              "      <td>18-24</td>\n",
              "      <td>Bachelor</td>\n",
              "      <td>Pursuing further studies</td>\n",
              "      <td>TRUE</td>\n",
              "      <td>TRUE</td>\n",
              "      <td>TRUE</td>\n",
              "      <td>TRUE</td>\n",
              "      <td>TRUE</td>\n",
              "      <td>TRUE</td>\n",
              "      <td>TRUE</td>\n",
              "      <td>TRUE</td>\n",
              "      <td>Don't know</td>\n",
              "      <td>TRUE</td>\n",
              "      <td>Yes</td>\n",
              "      <td>TRUE</td>\n",
              "      <td>TRUE</td>\n",
              "      <td>FALSE</td>\n",
              "      <td>Yes</td>\n",
              "      <td>Yes</td>\n",
              "      <td>Yes</td>\n",
              "      <td>Yes</td>\n",
              "      <td>Yes</td>\n",
              "      <td>Yes</td>\n",
              "      <td>Yes</td>\n",
              "      <td>Daily</td>\n",
              "      <td>No</td>\n",
              "      <td>No</td>\n",
              "      <td>Washing hands frequently;Wearing masks;Using h...</td>\n",
              "      <td>No</td>\n",
              "      <td>No</td>\n",
              "      <td>Yes</td>\n",
              "      <td>Fear of getting infection</td>\n",
              "      <td>Unable to relax;Scared/ Afraid;Depression</td>\n",
              "      <td>No</td>\n",
              "    </tr>\n",
              "    <tr>\n",
              "      <th>2</th>\n",
              "      <td>Male</td>\n",
              "      <td>18-24</td>\n",
              "      <td>Bachelor</td>\n",
              "      <td>Seeking employment</td>\n",
              "      <td>TRUE</td>\n",
              "      <td>TRUE</td>\n",
              "      <td>TRUE</td>\n",
              "      <td>Don't know</td>\n",
              "      <td>TRUE</td>\n",
              "      <td>Don't know</td>\n",
              "      <td>TRUE</td>\n",
              "      <td>TRUE</td>\n",
              "      <td>Don't know</td>\n",
              "      <td>TRUE</td>\n",
              "      <td>Yes</td>\n",
              "      <td>TRUE</td>\n",
              "      <td>TRUE</td>\n",
              "      <td>Don't know</td>\n",
              "      <td>Yes</td>\n",
              "      <td>Maybe</td>\n",
              "      <td>Yes</td>\n",
              "      <td>Yes</td>\n",
              "      <td>Yes</td>\n",
              "      <td>Not sure</td>\n",
              "      <td>Yes</td>\n",
              "      <td>Twice</td>\n",
              "      <td>No</td>\n",
              "      <td>Yes</td>\n",
              "      <td>Social distancing</td>\n",
              "      <td>No</td>\n",
              "      <td>No</td>\n",
              "      <td>Yes</td>\n",
              "      <td>Fear of getting infection;Fear of dying</td>\n",
              "      <td>Scared/ Afraid;Unable to sleep;Indigestion</td>\n",
              "      <td>No</td>\n",
              "    </tr>\n",
              "    <tr>\n",
              "      <th>3</th>\n",
              "      <td>Female</td>\n",
              "      <td>18-24</td>\n",
              "      <td>Secondary</td>\n",
              "      <td>Self-employed</td>\n",
              "      <td>TRUE</td>\n",
              "      <td>TRUE</td>\n",
              "      <td>TRUE</td>\n",
              "      <td>TRUE</td>\n",
              "      <td>TRUE</td>\n",
              "      <td>TRUE</td>\n",
              "      <td>TRUE</td>\n",
              "      <td>TRUE</td>\n",
              "      <td>Don't know</td>\n",
              "      <td>TRUE</td>\n",
              "      <td>Yes</td>\n",
              "      <td>TRUE</td>\n",
              "      <td>TRUE</td>\n",
              "      <td>FALSE</td>\n",
              "      <td>Yes</td>\n",
              "      <td>Yes</td>\n",
              "      <td>No</td>\n",
              "      <td>Yes</td>\n",
              "      <td>Yes</td>\n",
              "      <td>No</td>\n",
              "      <td>Yes</td>\n",
              "      <td>Once</td>\n",
              "      <td>No</td>\n",
              "      <td>Yes</td>\n",
              "      <td>Washing hands frequently;Wearing masks;Social ...</td>\n",
              "      <td>No</td>\n",
              "      <td>No</td>\n",
              "      <td>Yes</td>\n",
              "      <td>Media news and reports</td>\n",
              "      <td>None</td>\n",
              "      <td>I am not experiencing any</td>\n",
              "    </tr>\n",
              "    <tr>\n",
              "      <th>4</th>\n",
              "      <td>Female</td>\n",
              "      <td>25-34</td>\n",
              "      <td>Bachelor</td>\n",
              "      <td>Full-time employment</td>\n",
              "      <td>TRUE</td>\n",
              "      <td>TRUE</td>\n",
              "      <td>TRUE</td>\n",
              "      <td>TRUE</td>\n",
              "      <td>TRUE</td>\n",
              "      <td>TRUE</td>\n",
              "      <td>TRUE</td>\n",
              "      <td>TRUE</td>\n",
              "      <td>FALSE</td>\n",
              "      <td>TRUE</td>\n",
              "      <td>Yes</td>\n",
              "      <td>TRUE</td>\n",
              "      <td>TRUE</td>\n",
              "      <td>FALSE</td>\n",
              "      <td>Yes</td>\n",
              "      <td>Maybe</td>\n",
              "      <td>Yes</td>\n",
              "      <td>Yes</td>\n",
              "      <td>Yes</td>\n",
              "      <td>Yes</td>\n",
              "      <td>Yes</td>\n",
              "      <td>Twice</td>\n",
              "      <td>No</td>\n",
              "      <td>No</td>\n",
              "      <td>Washing hands frequently;Wearing masks;Using h...</td>\n",
              "      <td>No</td>\n",
              "      <td>No</td>\n",
              "      <td>No</td>\n",
              "      <td>I don't have any</td>\n",
              "      <td>None</td>\n",
              "      <td>No</td>\n",
              "    </tr>\n",
              "  </tbody>\n",
              "</table>\n",
              "</div>"
            ],
            "text/plain": [
              "   Gender  ...                         i6\n",
              "0  Female  ...                         No\n",
              "1    Male  ...                         No\n",
              "2    Male  ...                         No\n",
              "3  Female  ...  I am not experiencing any\n",
              "4  Female  ...                         No\n",
              "\n",
              "[5 rows x 35 columns]"
            ]
          },
          "metadata": {
            "tags": []
          },
          "execution_count": 21
        }
      ]
    },
    {
      "cell_type": "code",
      "metadata": {
        "id": "7na8xsMrn4Qk",
        "colab_type": "code",
        "colab": {}
      },
      "source": [
        "knowledge = dataset[['k1','k2','k3','k4','k5','k6','k7','k8','k9','k10','k11','k12','k13','k14']]"
      ],
      "execution_count": 0,
      "outputs": []
    },
    {
      "cell_type": "code",
      "metadata": {
        "id": "FXLWzKelrQwk",
        "colab_type": "code",
        "colab": {}
      },
      "source": [
        "knowledge_score_list = []\n",
        "for k in range(len(knowledge)):\n",
        "  knowledge_score = 0\n",
        "  if knowledge['k1'][k] == 'TRUE':\n",
        "    knowledge_score+=1\n",
        "  if knowledge['k2'][k] == 'TRUE':\n",
        "    knowledge_score+=1\n",
        "  if knowledge['k3'][k] == 'TRUE':\n",
        "    knowledge_score+=1\n",
        "  if knowledge['k4'][k] == 'TRUE':\n",
        "    knowledge_score+=1\n",
        "  if knowledge['k5'][k] == 'TRUE':\n",
        "    knowledge_score+=1\n",
        "  if knowledge['k6'][k] == 'TRUE':\n",
        "    knowledge_score+=1\n",
        "  if knowledge['k7'][k] == 'TRUE':\n",
        "    knowledge_score+=1\n",
        "  if knowledge['k8'][k] == 'TRUE':\n",
        "    knowledge_score+=1  \n",
        "  if knowledge['k9'][k] == 'TRUE':\n",
        "    knowledge_score+=1\n",
        "  if knowledge['k10'][k] == 'TRUE':\n",
        "    knowledge_score+=1\n",
        "  if knowledge['k11'][k] == 'Yes':\n",
        "    knowledge_score+=1\n",
        "  if knowledge['k12'][k] == 'TRUE':\n",
        "    knowledge_score+=1\n",
        "  if knowledge['k13'][k] == 'TRUE':\n",
        "    knowledge_score+=1\n",
        "  if knowledge['k14'][k] == 'FALSE':\n",
        "    knowledge_score+=1\n",
        "  knowledge_score_list.append(knowledge_score)\n",
        "\n",
        "      "
      ],
      "execution_count": 0,
      "outputs": []
    },
    {
      "cell_type": "code",
      "metadata": {
        "id": "LDfuS1PUs5Ax",
        "colab_type": "code",
        "colab": {
          "base_uri": "https://localhost:8080/",
          "height": 33
        },
        "outputId": "53144898-284f-4e64-bf13-5f6a4cc429be"
      },
      "source": [
        "# get the mean results for each parameter\n",
        "statistics.mean(knowledge_score_list)"
      ],
      "execution_count": 59,
      "outputs": [
        {
          "output_type": "execute_result",
          "data": {
            "text/plain": [
              "12.528409090909092"
            ]
          },
          "metadata": {
            "tags": []
          },
          "execution_count": 59
        }
      ]
    },
    {
      "cell_type": "code",
      "metadata": {
        "id": "UiNq5titxcDz",
        "colab_type": "code",
        "colab": {}
      },
      "source": [
        "# convert to dataframe\n",
        "knowledge_socre_df = pd.DataFrame({'knowledge_score':knowledge_score_list })"
      ],
      "execution_count": 0,
      "outputs": []
    },
    {
      "cell_type": "code",
      "metadata": {
        "id": "fhcKphOw1EDQ",
        "colab_type": "code",
        "colab": {
          "base_uri": "https://localhost:8080/",
          "height": 402
        },
        "outputId": "a7fc5664-63e5-4eab-f0aa-9425f3f5bdc1"
      },
      "source": [
        "knowledge_socre_df"
      ],
      "execution_count": 65,
      "outputs": [
        {
          "output_type": "execute_result",
          "data": {
            "text/html": [
              "<div>\n",
              "<style scoped>\n",
              "    .dataframe tbody tr th:only-of-type {\n",
              "        vertical-align: middle;\n",
              "    }\n",
              "\n",
              "    .dataframe tbody tr th {\n",
              "        vertical-align: top;\n",
              "    }\n",
              "\n",
              "    .dataframe thead th {\n",
              "        text-align: right;\n",
              "    }\n",
              "</style>\n",
              "<table border=\"1\" class=\"dataframe\">\n",
              "  <thead>\n",
              "    <tr style=\"text-align: right;\">\n",
              "      <th></th>\n",
              "      <th>knowledge_score</th>\n",
              "    </tr>\n",
              "  </thead>\n",
              "  <tbody>\n",
              "    <tr>\n",
              "      <th>0</th>\n",
              "      <td>12</td>\n",
              "    </tr>\n",
              "    <tr>\n",
              "      <th>1</th>\n",
              "      <td>13</td>\n",
              "    </tr>\n",
              "    <tr>\n",
              "      <th>2</th>\n",
              "      <td>10</td>\n",
              "    </tr>\n",
              "    <tr>\n",
              "      <th>3</th>\n",
              "      <td>13</td>\n",
              "    </tr>\n",
              "    <tr>\n",
              "      <th>4</th>\n",
              "      <td>13</td>\n",
              "    </tr>\n",
              "    <tr>\n",
              "      <th>...</th>\n",
              "      <td>...</td>\n",
              "    </tr>\n",
              "    <tr>\n",
              "      <th>523</th>\n",
              "      <td>13</td>\n",
              "    </tr>\n",
              "    <tr>\n",
              "      <th>524</th>\n",
              "      <td>13</td>\n",
              "    </tr>\n",
              "    <tr>\n",
              "      <th>525</th>\n",
              "      <td>13</td>\n",
              "    </tr>\n",
              "    <tr>\n",
              "      <th>526</th>\n",
              "      <td>14</td>\n",
              "    </tr>\n",
              "    <tr>\n",
              "      <th>527</th>\n",
              "      <td>14</td>\n",
              "    </tr>\n",
              "  </tbody>\n",
              "</table>\n",
              "<p>528 rows × 1 columns</p>\n",
              "</div>"
            ],
            "text/plain": [
              "     knowledge_score\n",
              "0                 12\n",
              "1                 13\n",
              "2                 10\n",
              "3                 13\n",
              "4                 13\n",
              "..               ...\n",
              "523               13\n",
              "524               13\n",
              "525               13\n",
              "526               14\n",
              "527               14\n",
              "\n",
              "[528 rows x 1 columns]"
            ]
          },
          "metadata": {
            "tags": []
          },
          "execution_count": 65
        }
      ]
    },
    {
      "cell_type": "code",
      "metadata": {
        "id": "LLBim2wG1Ffb",
        "colab_type": "code",
        "colab": {}
      },
      "source": [
        "# saves at runtime\n",
        "knowledge_socre_df.to_csv('score.csv')"
      ],
      "execution_count": 0,
      "outputs": []
    },
    {
      "cell_type": "code",
      "metadata": {
        "id": "j3qeFq8D1Pm0",
        "colab_type": "code",
        "colab": {}
      },
      "source": [
        ""
      ],
      "execution_count": 0,
      "outputs": []
    }
  ]
}